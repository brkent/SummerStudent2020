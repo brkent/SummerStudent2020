{
  "nbformat": 4,
  "nbformat_minor": 0,
  "metadata": {
    "colab": {
      "name": "ExampleCosmology.ipynb",
      "provenance": [],
      "authorship_tag": "ABX9TyPTVmQheTaLhF0yAfXyqVgd",
      "include_colab_link": true
    },
    "kernelspec": {
      "name": "python3",
      "display_name": "Python 3"
    }
  },
  "cells": [
    {
      "cell_type": "markdown",
      "metadata": {
        "id": "view-in-github",
        "colab_type": "text"
      },
      "source": [
        "<a href=\"https://colab.research.google.com/github/brkent/SummerStudent2020/blob/master/ExampleCosmology.ipynb\" target=\"_parent\"><img src=\"https://colab.research.google.com/assets/colab-badge.svg\" alt=\"Open In Colab\"/></a>"
      ]
    },
    {
      "cell_type": "markdown",
      "metadata": {
        "id": "Lj7A61w-LyZv",
        "colab_type": "text"
      },
      "source": [
        "Define your preamble and import your required modules"
      ]
    },
    {
      "cell_type": "code",
      "metadata": {
        "id": "-avoODsJLdnM",
        "colab_type": "code",
        "colab": {}
      },
      "source": [
        "from astropy.cosmology import FlatLambdaCDM\n",
        "import numpy as np\n",
        "import matplotlib.pyplot as plt\n",
        "import matplotlib\n",
        "import astropy.units as u\n",
        "from astropy.cosmology import z_at_value\n",
        "from astropy.cosmology import Planck13"
      ],
      "execution_count": 0,
      "outputs": []
    },
    {
      "cell_type": "markdown",
      "metadata": {
        "id": "GzLfV1ScL3dz",
        "colab_type": "text"
      },
      "source": [
        "Make a flag cosmology with curvature density of 0\n",
        "\n",
        "Hubble (H0) parameter of 70 km/s/Mpc\n",
        "\n",
        "Matter density of 0.3 at z=0\n",
        "\n",
        "Use handy automated function FlatLambdaCDM\n",
        "\n",
        "Omega_M + Omega_Lambda + Omega_k = 1\n",
        "\n",
        "therefore dark energy density is 0.7"
      ]
    },
    {
      "cell_type": "code",
      "metadata": {
        "id": "FzIxr6L7MZgV",
        "colab_type": "code",
        "colab": {}
      },
      "source": [
        "cosmo = FlatLambdaCDM(H0=70, Om0=0.3)"
      ],
      "execution_count": 0,
      "outputs": []
    },
    {
      "cell_type": "markdown",
      "metadata": {
        "id": "0ZEJZA0ANDhN",
        "colab_type": "text"
      },
      "source": [
        "Compute the angular diamter distance vs. redshift"
      ]
    },
    {
      "cell_type": "code",
      "metadata": {
        "id": "fxNZGSOrNMX7",
        "colab_type": "code",
        "outputId": "27a3a8b4-44a8-4ca5-c906-cfadc471b498",
        "colab": {
          "base_uri": "https://localhost:8080/",
          "height": 35
        }
      },
      "source": [
        "z = np.arange(0,6, 0.1)\n",
        "distance = cosmo.angular_diameter_distance(z)\n",
        "print(distance.unit)"
      ],
      "execution_count": 0,
      "outputs": [
        {
          "output_type": "stream",
          "text": [
            "Mpc\n"
          ],
          "name": "stdout"
        }
      ]
    },
    {
      "cell_type": "markdown",
      "metadata": {
        "id": "MKsrYOwGOm1J",
        "colab_type": "text"
      },
      "source": [
        "Fix axes to show age at top, z at bottom"
      ]
    },
    {
      "cell_type": "code",
      "metadata": {
        "id": "WOY9L53IOzx6",
        "colab_type": "code",
        "colab": {}
      },
      "source": [
        "ages = np.array([13, 10, 8, 6, 5, 4, 3, 2, 1.5, 1.2, 1])*u.Gyr\n",
        "ageticks = [z_at_value(cosmo.age, age) for age in ages]"
      ],
      "execution_count": 0,
      "outputs": []
    },
    {
      "cell_type": "code",
      "metadata": {
        "id": "xssoNGMsPAWx",
        "colab_type": "code",
        "outputId": "9ca2383b-87c9-4a15-a72a-8c1dc826a66b",
        "colab": {
          "base_uri": "https://localhost:8080/",
          "height": 308
        }
      },
      "source": [
        "fig = plt.figure(figsize=(6,4))\n",
        "ax = fig.add_subplot(111)\n",
        "ax.plot(z, distance)\n",
        "ax2 = ax.twiny()\n",
        "ax2.set_xticks(ageticks)\n",
        "ax2.set_xticklabels(['{:g}'.format(age) for age in ages.value])\n",
        "zmin, zmax = 0, 5.9\n",
        "ax.set_xlim(zmin, zmax)\n",
        "ax2.set_xlim(zmin, zmax)\n",
        "ax2.set_xlabel('Time since Big Bang (Gyr)')\n",
        "ax.set_xlabel('Redshift')\n",
        "ax.set_ylabel('Angular diameter distance (Mpc)')\n",
        "ax.set_ylim(0, 1890)\n",
        "ax.minorticks_on()"
      ],
      "execution_count": 0,
      "outputs": [
        {
          "output_type": "display_data",
          "data": {
            "image/png": "[encoded data removed]",
            "text/plain": [
              "<Figure size 432x288 with 2 Axes>"
            ]
          },
          "metadata": {
            "tags": [],
            "needs_background": "light"
          }
        }
      ]
    }
  ]
}