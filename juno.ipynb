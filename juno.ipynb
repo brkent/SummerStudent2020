{
  "nbformat": 4,
  "nbformat_minor": 0,
  "metadata": {
    "colab": {
      "name": "juno.ipynb",
      "provenance": [],
      "authorship_tag": "ABX9TyPIOz/Kh1EFaJLVxUAwkrIG",
      "include_colab_link": true
    },
    "kernelspec": {
      "name": "python3",
      "display_name": "Python 3"
    }
  },
  "cells": [
    {
      "cell_type": "markdown",
      "metadata": {
        "id": "view-in-github",
        "colab_type": "text"
      },
      "source": [
        "<a href=\"https://colab.research.google.com/github/brkent/SummerStudent2020/blob/master/juno.ipynb\" target=\"_parent\"><img src=\"https://colab.research.google.com/assets/colab-badge.svg\" alt=\"Open In Colab\"/></a>"
      ]
    },
    {
      "cell_type": "code",
      "metadata": {
        "id": "Wi3RkWf1oWuZ",
        "colab_type": "code",
        "colab": {}
      },
      "source": [
        "from google.colab import drive\n",
        "drive.mount('/content/drive')\n",
        "\n"
      ],
      "execution_count": 0,
      "outputs": []
    },
    {
      "cell_type": "code",
      "metadata": {
        "id": "Q9B6_HbBojZk",
        "colab_type": "code",
        "colab": {}
      },
      "source": [
        "data_dir = '/content/drive/My Drive/Colab Notebooks/'\n",
        "\n",
        "from PIL import Image \n",
        "import numpy as np\n",
        "\n",
        "def combineImages(rgbfiles):\n",
        "\n",
        "    RGB = []\n",
        "    \n",
        "    for i, filename in enumerate(rgbfiles):\n",
        "        im = Image.open(filename)\n",
        "        implane = np.array(list(im.getdata()), dtype=\"uint8\")\n",
        "        reshape = implane.reshape(im.size[0], im.size[1])\n",
        "        RGB.append(Image.fromarray(reshape,mode=None))\n",
        "\n",
        "    combine = Image.merge(\"RGB\",(RGB[0],RGB[1],RGB[2]))\n",
        "    combine.show()\n",
        "    combine.save(data_dir + \"jupiter.png\")\n",
        "\n",
        "\n",
        "combineImages([data_dir + i for i in ['junored.png','junogreen.png','junoblue.png']])"
      ],
      "execution_count": 0,
      "outputs": []
    }
  ]
}